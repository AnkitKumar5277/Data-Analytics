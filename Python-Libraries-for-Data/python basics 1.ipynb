{
 "cells": [
  {
   "cell_type": "code",
   "execution_count": 1,
   "id": "be59e7fc-29a0-4895-9b23-8666edb74c96",
   "metadata": {},
   "outputs": [
    {
     "name": "stdout",
     "output_type": "stream",
     "text": [
      "type c <class 'str'>\n",
      "type d <class 'bool'>\n",
      "type e <class 'str'>\n",
      "type f <class 'complex'>\n",
      "#\n"
     ]
    }
   ],
   "source": [
    "# variable\n",
    "a = 10\n",
    "b = 3.44\n",
    "c = \"ankit\"\n",
    "d = True\n",
    "e = '#'\n",
    "f = (3+4j)\n",
    "print(\"type c\",type(c))\n",
    "print(\"type d\",type(d))\n",
    "print(\"type e\",type(e))\n",
    "print(\"type f\",type(f))\n",
    "c.find('t')\n",
    "c.split('k')\n",
    "print(e)"
   ]
  },
  {
   "cell_type": "code",
   "execution_count": null,
   "id": "686987f2-4e14-48d5-9376-04db37fa1943",
   "metadata": {},
   "outputs": [],
   "source": []
  },
  {
   "cell_type": "code",
   "execution_count": 3,
   "id": "7d53a232-ffb3-4ec7-829b-0765f87b75cf",
   "metadata": {},
   "outputs": [
    {
     "data": {
      "text/plain": [
       "True"
      ]
     },
     "execution_count": 3,
     "metadata": {},
     "output_type": "execute_result"
    }
   ],
   "source": [
    "#operators\n",
    "# Arithmatic operators\n",
    "a = 1\n",
    "b = 2\n",
    "c = 3\n",
    "d = 4\n",
    "t = a + b - c * d / a\n",
    "t\n",
    "# Relational pperators\n",
    "a = 1\n",
    "b = 2\n",
    "c = 3\n",
    "d = 4\n",
    "t = a < b > c == d != a\n",
    "t\n",
    "# and or not\n",
    "a = True\n",
    "b = False\n",
    "t = a & b | c != d\n",
    "t"
   ]
  },
  {
   "cell_type": "code",
   "execution_count": 4,
   "id": "0bc3abdb-5040-42ca-be4c-d2565f931f1e",
   "metadata": {},
   "outputs": [
    {
     "name": "stdout",
     "output_type": "stream",
     "text": [
      "ankit ankit ANKIT\n",
      "KUMAR\n"
     ]
    },
    {
     "data": {
      "text/plain": [
       "1"
      ]
     },
     "execution_count": 4,
     "metadata": {},
     "output_type": "execute_result"
    }
   ],
   "source": [
    "# string\n",
    "str1 = \"ankit\"\n",
    "str2 = 'ANKIT'\n",
    "str3 = \"\"\"ankit\n",
    "kumar\"\"\"\n",
    "print(str1, str2.lower(), str3.upper())\n",
    "len(str1)\n",
    "str = \"this is software x\"\n",
    "str[0], str[-1], str[0:16]\n",
    "str.replace(\"this is\", \"\")\n",
    "str.count(str)"
   ]
  },
  {
   "cell_type": "code",
   "execution_count": 5,
   "id": "a06a9337-a443-478a-88fd-44c194d8d074",
   "metadata": {},
   "outputs": [
    {
     "data": {
      "text/plain": [
       "(1, 5)"
      ]
     },
     "execution_count": 5,
     "metadata": {},
     "output_type": "execute_result"
    }
   ],
   "source": [
    "# tuple\n",
    "tuple = (1,True, 3.3, 5-6j)\n",
    "tuple2 = (5,3,2,5,1)\n",
    "tuple, type(tuple), tuple[0:2], tuple[-1]\n",
    "len(tuple)\n",
    "# tuple[0] = \"ok\" -> immutable\n",
    "tuple + tuple2\n",
    "tuple, tuple2\n",
    "tuple * 4 # repeat elements of tuple\n",
    "tuple *2 + tuple2\n",
    "min(tuple2), max(tuple2)"
   ]
  },
  {
   "cell_type": "code",
   "execution_count": 6,
   "id": "cbcaeed0-bbf3-4253-ab7b-6e65eeccd165",
   "metadata": {},
   "outputs": [
    {
     "data": {
      "text/plain": [
       "[1, 'ok', 2, 4, 5, 6, 8, 1, 'ok', 2, 4, 5, 6, 8]"
      ]
     },
     "execution_count": 6,
     "metadata": {},
     "output_type": "execute_result"
    }
   ],
   "source": [
    "# list\n",
    "l1 = [3,'ankit', 3.34, True]\n",
    "l2 = [1,4,6,2,5,8]\n",
    "type(l1)\n",
    "l1[0]\n",
    "l1[2:5]\n",
    "l1[0] = 1 # list are mutable\n",
    "l1.pop() # last element ko remove karta h\n",
    "l1.append(\"kumar\")\n",
    "# l1.reverse()\n",
    "l2.sort()\n",
    "l2.insert(1, \"ok\")\n",
    "l1 + l2\n",
    "l2 * 2"
   ]
  },
  {
   "cell_type": "code",
   "execution_count": 7,
   "id": "c7a2f0ed-c8b9-40d8-86aa-30b7c29837f4",
   "metadata": {},
   "outputs": [
    {
     "data": {
      "text/plain": [
       "{'name': 'ankit',\n",
       " 'roll no.': 20,\n",
       " 'class': 'BCA',\n",
       " 'employee': 'rahul',\n",
       " 'emp_id': 3544}"
      ]
     },
     "execution_count": 7,
     "metadata": {},
     "output_type": "execute_result"
    }
   ],
   "source": [
    "# Dictionay \n",
    "d1 = {\"name\": \"ankit\", \"roll no.\": 20, \"id no.\": 124}\n",
    "d2 = {\"employee\": \"rahul\", \"emp_id\": 3544}\n",
    "type(d1) # mutable hoti h\n",
    "d1.keys()\n",
    "d1.values()\n",
    "d1[\"class\"] = \"BCA\" # adding dict\n",
    "d1[\"id no.\"] = 4 \n",
    "d1.update(d2)\n",
    "d1.pop(\"id no.\")\n",
    "d1"
   ]
  },
  {
   "cell_type": "code",
   "execution_count": 8,
   "id": "cc705d3f-388f-46a3-ae76-c9685cb7b48d",
   "metadata": {},
   "outputs": [
    {
     "data": {
      "text/plain": [
       "{2}"
      ]
     },
     "execution_count": 8,
     "metadata": {},
     "output_type": "execute_result"
    }
   ],
   "source": [
    "# set\n",
    "s1 = {1,2,3,4,1}\n",
    "s2 = {\"a\", \"b\", \"c\", \"d\", 2}\n",
    "# s1.add(\"Hello\")\n",
    "# s1.remove(\"b\")\n",
    "s1.update([10,20,30])\n",
    "s1.union(s2)\n",
    "s1.intersection(s2)"
   ]
  },
  {
   "cell_type": "code",
   "execution_count": 9,
   "id": "45746fc6-7426-4777-bbbb-c3f533a51645",
   "metadata": {},
   "outputs": [
    {
     "name": "stdout",
     "output_type": "stream",
     "text": [
      "n\n",
      "y\n"
     ]
    },
    {
     "data": {
      "text/plain": [
       "{'a': 101, 'b': 2, 'c': 3}"
      ]
     },
     "execution_count": 9,
     "metadata": {},
     "output_type": "execute_result"
    }
   ],
   "source": [
    "# conditional\n",
    "a = 1\n",
    "b = 2\n",
    "if a>b:\n",
    "    print(\"y\")\n",
    "else:\n",
    "    print(\"n\")\n",
    "t = ('a', 'b', 'c')\n",
    "if 'a' in t:\n",
    "    print(\"y\")\n",
    "l = ['a', 'b', 'c']\n",
    "\n",
    "if l[1] == 'b': # changing value\n",
    "    l[1] = 'z'\n",
    "l\n",
    "\n",
    "d = {'a':1, 'b':2, 'c':3}\n",
    "if d['a'] == 1:\n",
    "    d['a'] = d['a'] + 100\n",
    "d"
   ]
  },
  {
   "cell_type": "code",
   "execution_count": null,
   "id": "5a2efa42-efba-410f-9099-d18d11b043f6",
   "metadata": {},
   "outputs": [],
   "source": [
    "#loop\n",
    "i = 1\n",
    "while i<=10:\n",
    "    print(i)\n",
    "    i = i+1\n",
    "\n",
    "i = 1\n",
    "n = 2\n",
    "while i<=10:\n",
    "    print(f\"{n} X {i} = {n*i}\")\n",
    "    i = i + 1\n",
    "\n",
    "l = [1,2,3,4,5]\n",
    "i = 0\n",
    "while i<len(l):\n",
    "    l[i] = l[i] + 100\n",
    "    i + i + 1\n",
    "l\n",
    "l1 = ['orange', 'black', 'white']\n",
    "l2 = ['chair', 'book', 'laptop']\n",
    "for i in l1:\n",
    "    for j in l2:\n",
    "        print(i,j)"
   ]
  },
  {
   "cell_type": "code",
   "execution_count": null,
   "id": "fc1168bb-ecef-42a5-9aed-0abef37755d0",
   "metadata": {},
   "outputs": [],
   "source": []
  },
  {
   "cell_type": "code",
   "execution_count": null,
   "id": "168e24b7-2325-42cf-ae50-7111dc3a9b4e",
   "metadata": {},
   "outputs": [],
   "source": []
  }
 ],
 "metadata": {
  "kernelspec": {
   "display_name": "Python 3 (ipykernel)",
   "language": "python",
   "name": "python3"
  },
  "language_info": {
   "codemirror_mode": {
    "name": "ipython",
    "version": 3
   },
   "file_extension": ".py",
   "mimetype": "text/x-python",
   "name": "python",
   "nbconvert_exporter": "python",
   "pygments_lexer": "ipython3",
   "version": "3.12.4"
  }
 },
 "nbformat": 4,
 "nbformat_minor": 5
}
