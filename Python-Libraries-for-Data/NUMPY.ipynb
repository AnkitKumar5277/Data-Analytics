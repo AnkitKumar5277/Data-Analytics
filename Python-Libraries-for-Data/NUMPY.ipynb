{
 "cells": [
  {
   "cell_type": "code",
   "execution_count": 1,
   "id": "7efc4ae0-9c24-44f6-843f-564a69aec831",
   "metadata": {},
   "outputs": [
    {
     "data": {
      "text/plain": [
       "numpy.ndarray"
      ]
     },
     "execution_count": 1,
     "metadata": {},
     "output_type": "execute_result"
    }
   ],
   "source": [
    "import numpy as np\n",
    "n1 = np.array([10,20,30,40]) # single dimensional array\n",
    "n1\n",
    "type(n1)"
   ]
  },
  {
   "cell_type": "code",
   "execution_count": 2,
   "id": "c9332ca0-c152-44db-8c36-93e90c1532a3",
   "metadata": {},
   "outputs": [
    {
     "data": {
      "text/plain": [
       "array([[1, 2, 3, 4, 5],\n",
       "       [6, 7, 8, 9, 0]])"
      ]
     },
     "execution_count": 2,
     "metadata": {},
     "output_type": "execute_result"
    }
   ],
   "source": [
    "n2 = np.array([[1,2,3,4,5],[6,7,8,9,0]]) # multidimensional\n",
    "n2"
   ]
  },
  {
   "cell_type": "code",
   "execution_count": 3,
   "id": "135de1a9-fbe5-4418-b136-7dd500d043ef",
   "metadata": {},
   "outputs": [
    {
     "data": {
      "text/plain": [
       "numpy.ndarray"
      ]
     },
     "execution_count": 3,
     "metadata": {},
     "output_type": "execute_result"
    }
   ],
   "source": [
    "import numpy as np\n",
    "n1 = np.zeros((1,2)) # initializing numpy with zeroes\n",
    "n1\n",
    "type(n1)"
   ]
  },
  {
   "cell_type": "code",
   "execution_count": 4,
   "id": "90075f31-895e-4689-94f3-cdb552aab0c8",
   "metadata": {},
   "outputs": [
    {
     "data": {
      "text/plain": [
       "array([[0., 0., 0., 0., 0.],\n",
       "       [0., 0., 0., 0., 0.],\n",
       "       [0., 0., 0., 0., 0.],\n",
       "       [0., 0., 0., 0., 0.],\n",
       "       [0., 0., 0., 0., 0.]])"
      ]
     },
     "execution_count": 4,
     "metadata": {},
     "output_type": "execute_result"
    }
   ],
   "source": [
    "n2 = np.zeros((5,5))\n",
    "n2"
   ]
  },
  {
   "cell_type": "code",
   "execution_count": 5,
   "id": "5113e583-523c-4b65-9c69-c4771580dd5e",
   "metadata": {},
   "outputs": [
    {
     "data": {
      "text/plain": [
       "array([[10, 10],\n",
       "       [10, 10]])"
      ]
     },
     "execution_count": 5,
     "metadata": {},
     "output_type": "execute_result"
    }
   ],
   "source": [
    "import numpy as np\n",
    "n1 = np.full((2,2),10) # initializing numpy array with same number\n",
    "n1"
   ]
  },
  {
   "cell_type": "code",
   "execution_count": 6,
   "id": "27bd4929-43af-4beb-86e7-041fdf97d051",
   "metadata": {},
   "outputs": [
    {
     "data": {
      "text/plain": [
       "array([1, 2, 3, 4, 5, 6, 7, 8, 9])"
      ]
     },
     "execution_count": 6,
     "metadata": {},
     "output_type": "execute_result"
    }
   ],
   "source": [
    "n1 = np.arange(1,10) # initializing numpy array with range\n",
    "n1"
   ]
  },
  {
   "cell_type": "code",
   "execution_count": 7,
   "id": "0948fe7f-36e7-40f5-b580-c304adb25963",
   "metadata": {},
   "outputs": [
    {
     "data": {
      "text/plain": [
       "array([ 1,  6, 11, 16])"
      ]
     },
     "execution_count": 7,
     "metadata": {},
     "output_type": "execute_result"
    }
   ],
   "source": [
    "n1 = np.arange(1,20,5) # initializing numpy array with range\n",
    "n1"
   ]
  },
  {
   "cell_type": "code",
   "execution_count": 9,
   "id": "56dc8eb0-9104-4f9e-8032-0668b01301aa",
   "metadata": {},
   "outputs": [
    {
     "data": {
      "text/plain": [
       "array([ 1,  6, 11, 16])"
      ]
     },
     "execution_count": 9,
     "metadata": {},
     "output_type": "execute_result"
    }
   ],
   "source": [
    "n1 = np.arange(1,20,5) # initializing numpy array with range\n",
    "n1"
   ]
  },
  {
   "cell_type": "code",
   "execution_count": 18,
   "id": "b4fa4f44-f523-4f7a-80bd-d415c93e371a",
   "metadata": {},
   "outputs": [
    {
     "data": {
      "text/plain": [
       "array([19,  9,  5, 10,  6])"
      ]
     },
     "execution_count": 18,
     "metadata": {},
     "output_type": "execute_result"
    }
   ],
   "source": [
    "n1 = np.random.randint(1,20,5) # initializing numpy array with random numbers\n",
    "n1"
   ]
  },
  {
   "cell_type": "code",
   "execution_count": 38,
   "id": "734eef52-9741-4156-9cef-77f7c6ff42ef",
   "metadata": {},
   "outputs": [
    {
     "data": {
      "text/plain": [
       "((2, 3),\n",
       " array([[1, 2, 3],\n",
       "        [4, 5, 6]]))"
      ]
     },
     "execution_count": 38,
     "metadata": {},
     "output_type": "execute_result"
    }
   ],
   "source": [
    "n1 = np.array([[1,2,3],[4,5,6]]) # checking the shape of numpy arrays\n",
    "n1.shape, n1"
   ]
  },
  {
   "cell_type": "code",
   "execution_count": 40,
   "id": "b6edff72-ffe8-4bbd-8bcc-d802727d9119",
   "metadata": {},
   "outputs": [
    {
     "data": {
      "text/plain": [
       "((3, 2),\n",
       " array([[1, 2],\n",
       "        [3, 4],\n",
       "        [5, 6]]))"
      ]
     },
     "execution_count": 40,
     "metadata": {},
     "output_type": "execute_result"
    }
   ],
   "source": [
    "n1.shape = (3,2)\n",
    "n1.shape, n1"
   ]
  },
  {
   "cell_type": "code",
   "execution_count": 42,
   "id": "2b8aaba2-da9a-414c-983b-cf54bd598238",
   "metadata": {},
   "outputs": [
    {
     "data": {
      "text/plain": [
       "array([[10, 20, 30],\n",
       "       [40, 50, 60]])"
      ]
     },
     "execution_count": 42,
     "metadata": {},
     "output_type": "execute_result"
    }
   ],
   "source": [
    "# joining numpy arrays\n",
    "import numpy as np\n",
    "n1 = np.array([10,20,30]) \n",
    "n2 = np.array([40, 50, 60])\n",
    "np.vstack((n1, n2)) # vertical stack"
   ]
  },
  {
   "cell_type": "code",
   "execution_count": 44,
   "id": "7fedccd8-f8fe-4e99-aded-dd1e04501250",
   "metadata": {},
   "outputs": [
    {
     "data": {
      "text/plain": [
       "array([10, 20, 30, 40, 50, 60])"
      ]
     },
     "execution_count": 44,
     "metadata": {},
     "output_type": "execute_result"
    }
   ],
   "source": [
    "n1 = np.array([10,20,30])\n",
    "n2 = np.array([40, 50, 60])\n",
    "np.hstack((n1, n2)) # horizontal stack"
   ]
  },
  {
   "cell_type": "code",
   "execution_count": 46,
   "id": "ed82c47a-7607-451d-a848-1a7e9deb6bab",
   "metadata": {},
   "outputs": [
    {
     "data": {
      "text/plain": [
       "array([[10, 40],\n",
       "       [20, 50],\n",
       "       [30, 60]])"
      ]
     },
     "execution_count": 46,
     "metadata": {},
     "output_type": "execute_result"
    }
   ],
   "source": [
    "n1 = np.array([10,20,30])\n",
    "n2 = np.array([40, 50, 60])\n",
    "np.column_stack((n1, n2)) # column stack"
   ]
  },
  {
   "cell_type": "code",
   "execution_count": 3,
   "id": "e49a8d1d-1227-4230-b667-82c914507990",
   "metadata": {},
   "outputs": [
    {
     "data": {
      "text/plain": [
       "array([5, 6])"
      ]
     },
     "execution_count": 3,
     "metadata": {},
     "output_type": "execute_result"
    }
   ],
   "source": [
    "# numpy intersection & difference\n",
    "import numpy as np\n",
    "n1 = np.array([1,2,3,4,5,6])\n",
    "n2 = np.array([5,6,7,8,9,10])\n",
    "np.intersect1d(n1,n2) # intersecction"
   ]
  },
  {
   "cell_type": "code",
   "execution_count": 9,
   "id": "18b2eb8e-949e-4038-98cf-a8cc28c1eae6",
   "metadata": {},
   "outputs": [
    {
     "data": {
      "text/plain": [
       "array([1, 2, 3, 4])"
      ]
     },
     "execution_count": 9,
     "metadata": {},
     "output_type": "execute_result"
    }
   ],
   "source": [
    "import numpy as np\n",
    "n1 = np.array([1,2,3,4,5,6])\n",
    "n2 = np.array([5,6,7,8,9,10])\n",
    "np.setdiff1d(n1,n2) # phele k wo element jo n2 me nhi h"
   ]
  },
  {
   "cell_type": "code",
   "execution_count": 13,
   "id": "829f2094-b235-4c4f-9532-55bc0471b5d0",
   "metadata": {},
   "outputs": [
    {
     "data": {
      "text/plain": [
       "array([ 7,  8,  9, 10])"
      ]
     },
     "execution_count": 13,
     "metadata": {},
     "output_type": "execute_result"
    }
   ],
   "source": [
    "import numpy as np\n",
    "n1 = np.array([1,2,3,4,5,6])\n",
    "n2 = np.array([5,6,7,8,9,10])\n",
    "np.setdiff1d(n2,n1) # n2 k wo element jo n1 me nhi hai"
   ]
  },
  {
   "cell_type": "code",
   "execution_count": 29,
   "id": "8947844a-4d26-40a1-b6e5-f8ca784d6838",
   "metadata": {},
   "outputs": [
    {
     "data": {
      "text/plain": [
       "array([ 6, 15])"
      ]
     },
     "execution_count": 29,
     "metadata": {},
     "output_type": "execute_result"
    }
   ],
   "source": [
    "# numpy array mathmatics, # addition of numpy arrays\n",
    "import numpy as np\n",
    "n1 = np.array([1,2,3])\n",
    "n2 = np.array([4,5,6])\n",
    "np.sum([n1,n2]) \n",
    "np.sum([n1,n2],axis=0) # column wise addition \n",
    "np.sum([n1,n2],axis=1) # row wise addition"
   ]
  },
  {
   "cell_type": "code",
   "execution_count": 31,
   "id": "37b9db14-d238-4af6-83d6-abaaba87f7ca",
   "metadata": {},
   "outputs": [
    {
     "data": {
      "text/plain": [
       "array([2, 3, 4])"
      ]
     },
     "execution_count": 31,
     "metadata": {},
     "output_type": "execute_result"
    }
   ],
   "source": [
    "import numpy as np\n",
    "n1 = np.array([1,2,3]) \n",
    "n1 = n1 + 1 # base addition\n",
    "n1"
   ]
  },
  {
   "cell_type": "code",
   "execution_count": 33,
   "id": "60bf644b-ab24-48c4-b097-7326fcaa55d9",
   "metadata": {},
   "outputs": [
    {
     "data": {
      "text/plain": [
       "array([1, 2, 3])"
      ]
     },
     "execution_count": 33,
     "metadata": {},
     "output_type": "execute_result"
    }
   ],
   "source": [
    "import numpy as np\n",
    "n1 = np.array([1,2,3])\n",
    "n1 = n1 * 1 # basic multipication\n",
    "n1"
   ]
  },
  {
   "cell_type": "code",
   "execution_count": 35,
   "id": "5bdbbb8f-d77e-4b00-93c5-14771e4a0bf5",
   "metadata": {},
   "outputs": [
    {
     "data": {
      "text/plain": [
       "array([0, 1, 2])"
      ]
     },
     "execution_count": 35,
     "metadata": {},
     "output_type": "execute_result"
    }
   ],
   "source": [
    "import numpy as np\n",
    "n1 = np.array([1,2,3])\n",
    "n1 = n1 - 1\n",
    "n1"
   ]
  },
  {
   "cell_type": "code",
   "execution_count": 37,
   "id": "607cd6f7-c28a-40bb-a5dc-3aaf5ec48644",
   "metadata": {},
   "outputs": [
    {
     "data": {
      "text/plain": [
       "array([0.5, 1. , 1.5])"
      ]
     },
     "execution_count": 37,
     "metadata": {},
     "output_type": "execute_result"
    }
   ],
   "source": [
    "import numpy as np\n",
    "n1 = np.array([1,2,3])\n",
    "n1 = n1 / 2\n",
    "n1"
   ]
  },
  {
   "cell_type": "code",
   "execution_count": 43,
   "id": "91e46ee0-5f63-451b-a70a-098a6760b787",
   "metadata": {},
   "outputs": [
    {
     "data": {
      "text/plain": [
       "array([ 7,  8,  9, 10, 11])"
      ]
     },
     "execution_count": 43,
     "metadata": {},
     "output_type": "execute_result"
    }
   ],
   "source": [
    "n1 = np.array([2,3,4,5,6])\n",
    "n1 + 5"
   ]
  },
  {
   "cell_type": "code",
   "execution_count": 51,
   "id": "6fb20f66-3a3f-4d30-b30e-1f34b50c7ec7",
   "metadata": {},
   "outputs": [
    {
     "data": {
      "text/plain": [
       "1.4142135623730951"
      ]
     },
     "execution_count": 51,
     "metadata": {},
     "output_type": "execute_result"
    }
   ],
   "source": [
    "# numpy math functions\n",
    "import numpy as np\n",
    "n1 = np.array([1,2,3,4,5])\n",
    "np.mean(n1) # mean\n",
    "np.std(n1) # standared deviation\n",
    "np.median(n1) # median"
   ]
  },
  {
   "cell_type": "code",
   "execution_count": 59,
   "id": "04a74b6a-249f-491d-b485-b9e62c264fd8",
   "metadata": {},
   "outputs": [],
   "source": [
    "# numpy save & load\n",
    "import numpy as np\n",
    "n1 = np.array([1,2,3,4,5])\n",
    "np.save('save1',n1) # save"
   ]
  },
  {
   "cell_type": "code",
   "execution_count": 61,
   "id": "a1db4fee-617e-448c-88db-425937ca9c6d",
   "metadata": {},
   "outputs": [
    {
     "data": {
      "text/plain": [
       "array([1, 2, 3, 4, 5])"
      ]
     },
     "execution_count": 61,
     "metadata": {},
     "output_type": "execute_result"
    }
   ],
   "source": [
    "# numpy save & load\n",
    "import numpy as np\n",
    "n = np.load('save1.npy') #load\n",
    "n\n"
   ]
  },
  {
   "cell_type": "code",
   "execution_count": null,
   "id": "ed7713b2-aed8-49e1-8d4f-bf040429055a",
   "metadata": {},
   "outputs": [],
   "source": []
  }
 ],
 "metadata": {
  "kernelspec": {
   "display_name": "Python 3 (ipykernel)",
   "language": "python",
   "name": "python3"
  },
  "language_info": {
   "codemirror_mode": {
    "name": "ipython",
    "version": 3
   },
   "file_extension": ".py",
   "mimetype": "text/x-python",
   "name": "python",
   "nbconvert_exporter": "python",
   "pygments_lexer": "ipython3",
   "version": "3.12.4"
  }
 },
 "nbformat": 4,
 "nbformat_minor": 5
}
