{
 "cells": [
  {
   "cell_type": "code",
   "execution_count": 3,
   "id": "c07ac49a-9a91-4dd1-a642-2a19dbf80f30",
   "metadata": {},
   "outputs": [
    {
     "name": "stdout",
     "output_type": "stream",
     "text": [
      "orange chair\n",
      "orange book\n",
      "orange laptop\n",
      "black chair\n",
      "black book\n",
      "black laptop\n",
      "white chair\n",
      "white book\n",
      "white laptop\n"
     ]
    }
   ],
   "source": [
    "l1 = ['orange', 'black', 'white']\n",
    "l2 = ['chair', 'book', 'laptop']\n",
    "for i in l1:\n",
    "    for j in l2:\n",
    "        print(i,j)"
   ]
  },
  {
   "cell_type": "code",
   "execution_count": 49,
   "id": "5578e0d9-9b4e-4a37-bbbb-29c93bede178",
   "metadata": {},
   "outputs": [
    {
     "name": "stdout",
     "output_type": "stream",
     "text": [
      "helo world\n",
      "10 is even\n"
     ]
    },
    {
     "data": {
      "text/plain": [
       "15"
      ]
     },
     "execution_count": 49,
     "metadata": {},
     "output_type": "execute_result"
    }
   ],
   "source": [
    "def hello():\n",
    "    print(\"helo world\")\n",
    "hello()\n",
    "def add_10(x):\n",
    "    return x + 10\n",
    "add_10(4)\n",
    "add_10(3)\n",
    "def even_odd(x):\n",
    "    if x % 2 == 0:\n",
    "        print(x, \"is even\")\n",
    "    else:\n",
    "        print(x, \"is odd\")\n",
    "even_odd(10)\n",
    "\n",
    "g = lambda x: x * x * x\n",
    "g(5)\n",
    "\n",
    "l3 = [34,23,33,25,65,24,2,3]\n",
    "t = list(filter(lambda x: (x%2!=0), l3))\n",
    "t\n",
    "l4 = [1,2,3,4,5]\n",
    "total = list(map(lambda x: x*2, l4))\n",
    "total\n",
    "\n",
    "from functools import reduce\n",
    "sum = reduce(lambda x, y: x+y,l4)\n",
    "sum"
   ]
  },
  {
   "cell_type": "code",
   "execution_count": 13,
   "id": "8ef70152-f83c-41e8-ad64-21020ea90888",
   "metadata": {},
   "outputs": [
    {
     "ename": "NameError",
     "evalue": "name 'hello' is not defined",
     "output_type": "error",
     "traceback": [
      "\u001b[1;31m---------------------------------------------------------------------------\u001b[0m",
      "\u001b[1;31mNameError\u001b[0m                                 Traceback (most recent call last)",
      "Cell \u001b[1;32mIn[13], line 1\u001b[0m\n\u001b[1;32m----> 1\u001b[0m \u001b[43mhello\u001b[49m()\n",
      "\u001b[1;31mNameError\u001b[0m: name 'hello' is not defined"
     ]
    }
   ],
   "source": [
    " "
   ]
  },
  {
   "cell_type": "code",
   "execution_count": null,
   "id": "b48dbc9b-0364-476a-acdf-ed20d4486a4d",
   "metadata": {},
   "outputs": [],
   "source": []
  }
 ],
 "metadata": {
  "kernelspec": {
   "display_name": "Python 3 (ipykernel)",
   "language": "python",
   "name": "python3"
  },
  "language_info": {
   "codemirror_mode": {
    "name": "ipython",
    "version": 3
   },
   "file_extension": ".py",
   "mimetype": "text/x-python",
   "name": "python",
   "nbconvert_exporter": "python",
   "pygments_lexer": "ipython3",
   "version": "3.12.4"
  }
 },
 "nbformat": 4,
 "nbformat_minor": 5
}
